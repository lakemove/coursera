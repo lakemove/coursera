{
 "metadata": {
  "name": ""
 },
 "nbformat": 3,
 "nbformat_minor": 0,
 "worksheets": [
  {
   "cells": [
    {
     "cell_type": "markdown",
     "metadata": {},
     "source": [
      "## Hello, Python"
     ]
    },
    {
     "cell_type": "code",
     "collapsed": false,
     "input": [
      "x = [10, 20, 30, 40, 50]\n",
      "for item in x :\n",
      "    print \"Item is \", item"
     ],
     "language": "python",
     "metadata": {},
     "outputs": [
      {
       "output_type": "stream",
       "stream": "stdout",
       "text": [
        "Item is  10\n",
        "Item is  20\n",
        "Item is  30\n",
        "Item is  40\n",
        "Item is  50\n"
       ]
      }
     ],
     "prompt_number": 1
    },
    {
     "cell_type": "markdown",
     "metadata": {},
     "source": [
      "## Python Libraries"
     ]
    },
    {
     "cell_type": "code",
     "collapsed": false,
     "input": [
      "#IPython is what you are using now to run the notebook\n",
      "import IPython\n",
      "print \"IPython version: %6.6s (need at least 1.0)\" % IPython.__version__\n",
      "\n",
      "#Numpy is a library for working with Arrays\n",
      "import numpy as np\n",
      "print \"Numpy version : %6.6s (need at least 1.7.1)\" % np.__version__\n",
      "\n",
      "#SciPy implements many different numerical algorithms\n",
      "import scipy as sp\n",
      "print \"SciPy version : %6.6s (need at least 0.12.0)\" % sp.__version__\n",
      "\n",
      "#Pandas makes working with data tables easier\n",
      "import pandas as pd\n",
      "print \"Pandas version : %6.6s (need at least 0.11.0)\" % pd.__version__\n",
      "\n",
      "#Module for plotting\n",
      "import matplotlib\n",
      "print \"Matplotlib version : %6.6s (need at least 1.2.1)\" % matplotlib.__version__\n",
      "\n",
      "#SciKit Learn implements several Machine Learning algorithms\n",
      "import sklearn\n",
      "print \"Scikit-Learn version %6.6s (need at least 0.13.1)\" % sklearn.__version__\n",
      "\n",
      "#Requests is a library for getting data from the Web\n",
      "import requests\n",
      "print \"requests version : %6.6s (need at least 1.2.3)\" % requests.__version__\n",
      "\n",
      "## Networkx is a library for working with networks  \n",
      "import networkx as nx\n",
      "print \"Networkx version : %6.6s (need at least 1.7)\" % nx.__version__\n",
      "\n",
      "#BeautifulSoup is library to parse HTML and XML document\n",
      "import BeautifulSoup\n",
      "print \"BeautifulSoup version : %6.6s (need at least 3.2)\" % BeautifulSoup.__version__\n",
      "\n",
      "#MrJob is library to run map reduce jobs on Amazons's computers\n",
      "import mrjob\n",
      "print \"Mr Job version : %6.6s (need at least 0.4)\" % mrjob.__version__\n",
      "\n",
      "#Pattern has lots of tools for working with data from the internet\n",
      "import pattern\n",
      "print \"Pattern version : %6.6s (need at least 2.6)\" % pattern.__version__\n",
      "       "
     ],
     "language": "python",
     "metadata": {},
     "outputs": [
      {
       "output_type": "stream",
       "stream": "stdout",
       "text": [
        "IPython version: 0.13.2 (need at least 1.0)\n",
        "Numpy version :  1.7.1 (need at least 1.7.1)\n",
        "SciPy version : 0.11.0 (need at least 0.12.0)\n",
        "Pandas version : 0.12.0 (need at least 0.11.0)\n",
        "Matplotlib version :  1.2.1 (need at least 1.2.1)\n",
        "Scikit-Learn version 0.14.1 (need at least 0.13.1)\n",
        "requests version :  1.1.0 (need at least 1.2.3)\n",
        "Networkx version :    1.7 (need at least 1.7)\n",
        "BeautifulSoup version :  3.2.1 (need at least 3.2)\n",
        "Mr Job version : 0.3.3. (need at least 0.4)\n",
        "Pattern version :    2.6 (need at least 2.6)\n"
       ]
      }
     ],
     "prompt_number": 8
    },
    {
     "cell_type": "markdown",
     "metadata": {},
     "source": [
      "## Hello matplotlib"
     ]
    },
    {
     "cell_type": "code",
     "collapsed": false,
     "input": [
      "%matplotlib inline\n",
      "\n",
      "import matplotlib.pyplot as plt\n",
      "\n",
      "x = np.linspace(0,10,30) # array of 30 points from 0 to 10\n",
      "y = np.sin(x)\n",
      "z = y + np.random.normal(size=30) * .2\n",
      "plt.plot(x, y, 'ro-', label='A sine wave')\n",
      "plt.plot(x, z, 'b-',  label='Noisy sine')\n",
      "plt.legend(loc = 'lower right')\n",
      "plt.xlabel('X axis')\n",
      "plt.ylabel('Y axis')"
     ],
     "language": "python",
     "metadata": {},
     "outputs": [
      {
       "metadata": {},
       "output_type": "pyout",
       "prompt_number": 2,
       "text": [
        "<matplotlib.text.Text at 0x9d8ec4c>"
       ]
      },
      {
       "metadata": {},
       "output_type": "display_data",
       "png": "[encoded data removed]",
       "text": [
        "<matplotlib.figure.Figure at 0x99298cc>"
       ]
      }
     ],
     "prompt_number": 2
    },
    {
     "cell_type": "markdown",
     "metadata": {},
     "source": [
      "##Hello Numpy"
     ]
    },
    {
     "cell_type": "code",
     "collapsed": false,
     "input": [
      "print \"Make a 3 row x 4 column array of random numbers\"\n",
      "x = np.random.random((3,4))\n",
      "print x\n",
      "print\n",
      "\n",
      "print \"Add 1 to every element\"\n",
      "x = x + 1\n",
      "print x\n",
      "print\n",
      "\n",
      "print \"Get the element at row 1, column 2\"\n",
      "print x[1,2]\n",
      "print\n",
      "\n",
      "print \"Get the first row\"\n",
      "print x[0,:]\n",
      "print \n",
      "\n",
      "print \"Get every 2nd column of the first row\"\n",
      "print x[0, ::2]\n",
      "print"
     ],
     "language": "python",
     "metadata": {},
     "outputs": [
      {
       "output_type": "stream",
       "stream": "stdout",
       "text": [
        "Make a 3 row x 4 column array of random numbers\n",
        "[[ 0.84789712  0.70775427  0.89943077  0.9964924 ]\n",
        " [ 0.97566129  0.48977919  0.01456516  0.48679937]\n",
        " [ 0.46775227  0.20337613  0.32090658  0.27295154]]\n",
        "\n",
        "Add 1 to every element\n",
        "[[ 1.84789712  1.70775427  1.89943077  1.9964924 ]\n",
        " [ 1.97566129  1.48977919  1.01456516  1.48679937]\n",
        " [ 1.46775227  1.20337613  1.32090658  1.27295154]]\n",
        "\n",
        "Get the element at row 1, column 2\n",
        "1.01456515965\n",
        "\n",
        "Get the first row\n",
        "[ 1.84789712  1.70775427  1.89943077  1.9964924 ]\n",
        "\n",
        "Get every 2nd column of the first row\n",
        "[ 1.84789712  1.89943077]\n",
        "\n"
       ]
      }
     ],
     "prompt_number": 3
    },
    {
     "cell_type": "code",
     "collapsed": false,
     "input": [
      "# print max, min, mean of the array\n",
      "print x.max(), x.min(), x.mean()"
     ],
     "language": "python",
     "metadata": {},
     "outputs": [
      {
       "output_type": "stream",
       "stream": "stdout",
       "text": [
        "1.99649239807 1.01456515965 1.55694717263\n"
       ]
      }
     ],
     "prompt_number": 4
    },
    {
     "cell_type": "code",
     "collapsed": false,
     "input": [
      "# print max of each row of x\n",
      "print x.max(axis=1)"
     ],
     "language": "python",
     "metadata": {},
     "outputs": [
      {
       "output_type": "stream",
       "stream": "stdout",
       "text": [
        "[ 1.9964924   1.97566129  1.46775227]\n"
       ]
      }
     ],
     "prompt_number": 7
    },
    {
     "cell_type": "code",
     "collapsed": false,
     "input": [
      "x = np.random.binomial(500, .5)\n",
      "print \"number of heads: \", x"
     ],
     "language": "python",
     "metadata": {},
     "outputs": [
      {
       "output_type": "stream",
       "stream": "stdout",
       "text": [
        "number of heads:  253\n"
       ]
      }
     ],
     "prompt_number": 8
    },
    {
     "cell_type": "code",
     "collapsed": false,
     "input": [
      "tosses = [ np.random.binomial(500, .5) for i in range(1,501) ]\n",
      "s = plt.hist(tosses)"
     ],
     "language": "python",
     "metadata": {},
     "outputs": [
      {
       "metadata": {},
       "output_type": "display_data",
       "png": "[encoded data removed]",
       "text": [
        "<matplotlib.figure.Figure at 0x10a5d24c>"
       ]
      }
     ],
     "prompt_number": 15
    },
    {
     "cell_type": "markdown",
     "metadata": {},
     "source": [
      "##The Monty Hall Problem"
     ]
    },
    {
     "cell_type": "code",
     "collapsed": false,
     "input": [
      "\"\"\"\n",
      "Function\n",
      "---------\n",
      "simulate_prizedoor\n",
      "TODO : not yet finished..."
     ],
     "language": "python",
     "metadata": {},
     "outputs": []
    }
   ],
   "metadata": {}
  }
 ]
}